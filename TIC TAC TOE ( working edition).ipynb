{
 "cells": [
  {
   "cell_type": "code",
   "execution_count": 164,
   "metadata": {},
   "outputs": [],
   "source": [
    "# Creating the Board.\n",
    "\n",
    "\n",
    "from IPython.display import clear_output\n",
    "\n",
    "def display_board(board):\n",
    "    \n",
    "    clear_output()\n",
    "    \n",
    "    print(' ' + board[7] + ' |' + ' ' + board[8] + ' |' + ' ' + board[9] + ' ')\n",
    "    print('-----------')\n",
    "    print(' ' + board[4] + ' |' + ' ' + board[5] + ' |' + ' ' + board[6] + ' ')\n",
    "    print('-----------')\n",
    "    print(' ' + board[1] + ' |' + ' ' + board[2] + ' |' + ' ' + board[3] + ' ')\n",
    "          "
   ]
  },
  {
   "cell_type": "code",
   "execution_count": 160,
   "metadata": {},
   "outputs": [],
   "source": [
    "# test board\n",
    "\n",
    "test = [1,'a','b','c','d','e','f','g','h','i']"
   ]
  },
  {
   "cell_type": "code",
   "execution_count": 165,
   "metadata": {},
   "outputs": [
    {
     "name": "stdout",
     "output_type": "stream",
     "text": [
      " g | h | i \n",
      "-----------\n",
      " d | e | f \n",
      "-----------\n",
      " a | b | c \n"
     ]
    }
   ],
   "source": [
    "# displaying the test board\n",
    "\n",
    "display_board(test)"
   ]
  },
  {
   "cell_type": "code",
   "execution_count": 39,
   "metadata": {},
   "outputs": [],
   "source": [
    "# player decides if they want to be X or O. Function will save both player 1 and player 2 choices in the form of a tuple.\n",
    "# This can be later retrieved.\n",
    "\n",
    "def player_input():\n",
    "    \n",
    "    marker = ''\n",
    "    \n",
    "    while marker not in ['X','O']:\n",
    "        marker = input('Player 1, Do you wanna be X or O ? : ').upper()\n",
    "    \n",
    "    if marker == 'X':\n",
    "        return ('X','O')\n",
    "    else:\n",
    "        return('O','X')"
   ]
  },
  {
   "cell_type": "code",
   "execution_count": 42,
   "metadata": {},
   "outputs": [
    {
     "name": "stdout",
     "output_type": "stream",
     "text": [
      "Player 1, Do you wanna be X or O ? : x\n"
     ]
    }
   ],
   "source": [
    "# test tuple unpacking\n",
    "\n",
    "player_1, player_2 = player_input()"
   ]
  },
  {
   "cell_type": "code",
   "execution_count": 48,
   "metadata": {},
   "outputs": [
    {
     "data": {
      "text/plain": [
       "'X'"
      ]
     },
     "execution_count": 48,
     "metadata": {},
     "output_type": "execute_result"
    }
   ],
   "source": [
    "player_1"
   ]
  },
  {
   "cell_type": "code",
   "execution_count": 49,
   "metadata": {},
   "outputs": [
    {
     "data": {
      "text/plain": [
       "'O'"
      ]
     },
     "execution_count": 49,
     "metadata": {},
     "output_type": "execute_result"
    }
   ],
   "source": [
    "player_2"
   ]
  },
  {
   "cell_type": "code",
   "execution_count": 50,
   "metadata": {},
   "outputs": [],
   "source": [
    "# placing the marker at a position chosen by the player on the board.\n",
    "\n",
    "def place_marker(board, marker, position):\n",
    "    board[position] = marker"
   ]
  },
  {
   "cell_type": "code",
   "execution_count": 61,
   "metadata": {},
   "outputs": [
    {
     "name": "stdout",
     "output_type": "stream",
     "text": [
      " x | O | O |\n",
      " O | x | O |\n",
      " O | O | x |\n"
     ]
    }
   ],
   "source": [
    "place_marker(test, 'O', 6)\n",
    "display_board(test)"
   ]
  },
  {
   "cell_type": "code",
   "execution_count": 63,
   "metadata": {},
   "outputs": [],
   "source": [
    "# win check against a mark( x and o)\n",
    "\n",
    "def win_check(board, mark):\n",
    "    \n",
    "    return ((board[7] == board[8] == board[9] == mark) or # across the top\n",
    "    (board[4] == board[5] == board[6] == mark) or # across the middle\n",
    "    (board[1] == board[2] == board[3] == mark) or # across the bottom\n",
    "    (board[7] == board[4] == board[1] == mark) or # down the middle\n",
    "    (board[8] == board[5] == board[2] == mark) or # down the middle\n",
    "    (board[9] == board[6] == board[3] == mark) or # down the right side\n",
    "    (board[7] == board[5] == board[3] == mark) or # diagonal\n",
    "    (board[9] == board[5] == board[1] == mark)) # diagonal"
   ]
  },
  {
   "cell_type": "code",
   "execution_count": 68,
   "metadata": {},
   "outputs": [
    {
     "data": {
      "text/plain": [
       "True"
      ]
     },
     "execution_count": 68,
     "metadata": {},
     "output_type": "execute_result"
    }
   ],
   "source": [
    "win_check(test, 'x')"
   ]
  },
  {
   "cell_type": "code",
   "execution_count": 74,
   "metadata": {},
   "outputs": [],
   "source": [
    "# to randomize the turns\n",
    "\n",
    "import random\n",
    "\n",
    "def choose_first():\n",
    "    \n",
    "    flip = random.randint(0,1)\n",
    "    \n",
    "    if flip == 0:\n",
    "        return 'Player 1'\n",
    "    else:\n",
    "        return 'Player 2'\n",
    "    "
   ]
  },
  {
   "cell_type": "code",
   "execution_count": 77,
   "metadata": {},
   "outputs": [
    {
     "data": {
      "text/plain": [
       "'Player 1'"
      ]
     },
     "execution_count": 77,
     "metadata": {},
     "output_type": "execute_result"
    }
   ],
   "source": [
    "choose_first()"
   ]
  },
  {
   "cell_type": "code",
   "execution_count": 146,
   "metadata": {},
   "outputs": [],
   "source": [
    "def space_check(board, position):\n",
    "    \n",
    "    return board[position] == ' '\n",
    "    "
   ]
  },
  {
   "cell_type": "code",
   "execution_count": 81,
   "metadata": {},
   "outputs": [],
   "source": [
    "space_check(test, 2)"
   ]
  },
  {
   "cell_type": "code",
   "execution_count": 148,
   "metadata": {},
   "outputs": [],
   "source": [
    "def full_board_check(board):\n",
    "    \n",
    "    for i in range(1,10):\n",
    "        if space_check(board,i):\n",
    "            return False\n",
    "    return True\n",
    "     "
   ]
  },
  {
   "cell_type": "code",
   "execution_count": 119,
   "metadata": {},
   "outputs": [
    {
     "data": {
      "text/plain": [
       "False"
      ]
     },
     "execution_count": 119,
     "metadata": {},
     "output_type": "execute_result"
    }
   ],
   "source": [
    "full_board_check(test)"
   ]
  },
  {
   "cell_type": "code",
   "execution_count": 139,
   "metadata": {},
   "outputs": [],
   "source": [
    "def player_choice(board):\n",
    "    \n",
    "    position = 0\n",
    "    \n",
    "    while position not in [1,2,3,4,5,6,7,8,9] or not space_check(board, position):\n",
    "        position = int(input('Please choose your next position (1 to 9):'))\n",
    "    \n",
    "    return position"
   ]
  },
  {
   "cell_type": "code",
   "execution_count": 89,
   "metadata": {},
   "outputs": [
    {
     "name": "stdout",
     "output_type": "stream",
     "text": [
      "Please choose your next position (1 to 9):12\n",
      "Please choose your next position (1 to 9):5\n"
     ]
    },
    {
     "data": {
      "text/plain": [
       "5"
      ]
     },
     "execution_count": 89,
     "metadata": {},
     "output_type": "execute_result"
    }
   ],
   "source": [
    "player_choice(test)"
   ]
  },
  {
   "cell_type": "code",
   "execution_count": 177,
   "metadata": {},
   "outputs": [],
   "source": [
    "def replay():\n",
    "    \n",
    "    choice = ''\n",
    "    \n",
    "    while choice not in ['Y','N']:\n",
    "        choice = input('Do you want to play again ? (Y or N) : ').upper()\n",
    "        \n",
    "    return choice == 'Y'\n",
    "   "
   ]
  },
  {
   "cell_type": "code",
   "execution_count": 178,
   "metadata": {},
   "outputs": [
    {
     "name": "stdout",
     "output_type": "stream",
     "text": [
      " X |   | O \n",
      "-----------\n",
      " X | O |   \n",
      "-----------\n",
      " X |   |   \n",
      "Player 1 has won !\n",
      "Do you want to play again ? (Y or N) : g\n",
      "Do you want to play again ? (Y or N) : n\n"
     ]
    }
   ],
   "source": [
    "# setting the game logic\n",
    "\n",
    "\n",
    "print('Welcome to Tic Tac Toe!')\n",
    "\n",
    "while True:\n",
    "    \n",
    "    the_board = [' '] * 10\n",
    "    \n",
    "    player_1, player_2 = player_input()   # tuple unpacking\n",
    "    \n",
    "    who_goes_first = choose_first()       \n",
    "    print(who_goes_first + ' goes first !')\n",
    "    \n",
    "    play_game = input('Do you want to play ? (Y or N) : '). upper()\n",
    "    \n",
    "    if play_game == 'Y':\n",
    "        game_on = True\n",
    "    else:\n",
    "        game_on = False\n",
    "        break\n",
    "        \n",
    "    while game_on == True:\n",
    "        \n",
    "        # player 1 turn\n",
    "        \n",
    "        if who_goes_first == 'Player 1':\n",
    "            display_board(the_board)\n",
    "            position = player_choice(the_board)\n",
    "            place_marker(the_board,player_1,position)\n",
    "            \n",
    "            if win_check(the_board,player_1):\n",
    "                display_board(the_board)\n",
    "                print('Player 1 has won !')\n",
    "                game_on = False\n",
    "            else:\n",
    "                if full_board_check(the_board):\n",
    "                    display_board(the_board)\n",
    "                    print('The game is tied')\n",
    "                    game_on = False\n",
    "                    break\n",
    "                else:\n",
    "                    who_goes_first = 'Player 2'\n",
    "                \n",
    "        # player 2 turn\n",
    "        \n",
    "        else:\n",
    "            \n",
    "            display_board(the_board)\n",
    "            position = player_choice(the_board)\n",
    "            place_marker(the_board,player_2,position)\n",
    "            \n",
    "            if win_check(the_board,player_2):\n",
    "                display_board(the_board)\n",
    "                print('Player 2 has won !')\n",
    "                game_on = False\n",
    "            else:\n",
    "                if full_board_check(the_board):\n",
    "                    display_board(the_board)\n",
    "                    print('The game is tied')\n",
    "                    game_on = False\n",
    "                    break\n",
    "                else:\n",
    "                    who_goes_first = 'Player 1'\n",
    "                \n",
    "                \n",
    "    if not replay():\n",
    "        break\n",
    "        "
   ]
  },
  {
   "cell_type": "code",
   "execution_count": null,
   "metadata": {},
   "outputs": [],
   "source": []
  }
 ],
 "metadata": {
  "kernelspec": {
   "display_name": "Python 3",
   "language": "python",
   "name": "python3"
  },
  "language_info": {
   "codemirror_mode": {
    "name": "ipython",
    "version": 3
   },
   "file_extension": ".py",
   "mimetype": "text/x-python",
   "name": "python",
   "nbconvert_exporter": "python",
   "pygments_lexer": "ipython3",
   "version": "3.8.3"
  }
 },
 "nbformat": 4,
 "nbformat_minor": 4
}
